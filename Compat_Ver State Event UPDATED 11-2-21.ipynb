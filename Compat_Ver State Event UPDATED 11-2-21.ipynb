{
 "cells": [
  {
   "cell_type": "code",
   "execution_count": 15,
   "id": "e281884c",
   "metadata": {},
   "outputs": [],
   "source": [
    "import pandas as pd\n",
    "import numpy as np\n",
    "#import os"
   ]
  },
  {
   "cell_type": "markdown",
   "id": "b77e73e3",
   "metadata": {},
   "source": [
    "# Grabbing directory as found in File Explorer\n"
   ]
  },
  {
   "cell_type": "code",
   "execution_count": 16,
   "id": "373bc475",
   "metadata": {},
   "outputs": [
    {
     "name": "stdout",
     "output_type": "stream",
     "text": [
      "C:\\Users\\18642\\OneDrive - Clemson University\\CI Work\n"
     ]
    }
   ],
   "source": [
    "cd C:\\Users\\18642\\OneDrive - Clemson University\\CI Work"
   ]
  },
  {
   "cell_type": "code",
   "execution_count": null,
   "id": "857f9818",
   "metadata": {},
   "outputs": [],
   "source": []
  },
  {
   "cell_type": "code",
   "execution_count": 17,
   "id": "9b59f652",
   "metadata": {},
   "outputs": [],
   "source": [
    "#making function to check against proper filepath and then the empty cell\n",
    "#defining function\n",
    "read_in= False\n",
    "def compat_ver(csv_file):\n",
    "    global read_in\n",
    "    try:\n",
    "        main= pd.read_csv(csv_file)\n",
    "        read_in= True\n",
    "    except FileNotFoundError:\n",
    "        print(\"Error. Please make sure you are looking in the right directory using cd [filepath]. Please check directory and then try again.\")\n",
    "    if read_in==True: \n",
    "        if str(main.iloc[1][3])== \"nan\":\n",
    "            print(\"Error. Please use and implement a combination of point AND \\nstate events within BORIS to create a compatible .csv file.\")\n",
    "        else:\n",
    "            print(\"File compatible. Data saved to variable %w\") #same consequence as previous ELIF condition, but may help with troubleshooting,\n",
    "            #may want to implement a counter\n"
   ]
  },
  {
   "cell_type": "code",
   "execution_count": 18,
   "id": "b7a1091b",
   "metadata": {},
   "outputs": [
    {
     "data": {
      "text/html": [
       "<div>\n",
       "<style scoped>\n",
       "    .dataframe tbody tr th:only-of-type {\n",
       "        vertical-align: middle;\n",
       "    }\n",
       "\n",
       "    .dataframe tbody tr th {\n",
       "        vertical-align: top;\n",
       "    }\n",
       "\n",
       "    .dataframe thead th {\n",
       "        text-align: right;\n",
       "    }\n",
       "</style>\n",
       "<table border=\"1\" class=\"dataframe\">\n",
       "  <thead>\n",
       "    <tr style=\"text-align: right;\">\n",
       "      <th></th>\n",
       "      <th>Subject</th>\n",
       "      <th>Behavior</th>\n",
       "      <th>Behavioral category</th>\n",
       "      <th>Modifiers</th>\n",
       "      <th>Behavior type</th>\n",
       "      <th>Start (s)</th>\n",
       "      <th>Stop (s)</th>\n",
       "      <th>Duration (s)</th>\n",
       "      <th>Comment start</th>\n",
       "      <th>Comment stop</th>\n",
       "    </tr>\n",
       "  </thead>\n",
       "  <tbody>\n",
       "    <tr>\n",
       "      <th>0</th>\n",
       "      <td>Whale 1</td>\n",
       "      <td>dive</td>\n",
       "      <td>under water</td>\n",
       "      <td>0.0</td>\n",
       "      <td>STATE</td>\n",
       "      <td>6.618</td>\n",
       "      <td>9.685</td>\n",
       "      <td>3.067</td>\n",
       "      <td>0.0</td>\n",
       "      <td>0.0</td>\n",
       "    </tr>\n",
       "    <tr>\n",
       "      <th>1</th>\n",
       "      <td>Whale 1</td>\n",
       "      <td>swim</td>\n",
       "      <td>under water</td>\n",
       "      <td>0.0</td>\n",
       "      <td>STATE</td>\n",
       "      <td>11.232</td>\n",
       "      <td>35.251</td>\n",
       "      <td>24.019</td>\n",
       "      <td>0.0</td>\n",
       "      <td>0.0</td>\n",
       "    </tr>\n",
       "    <tr>\n",
       "      <th>2</th>\n",
       "      <td>Whale 1</td>\n",
       "      <td>sneeze</td>\n",
       "      <td>under water</td>\n",
       "      <td>0.0</td>\n",
       "      <td>POINT</td>\n",
       "      <td>18.134</td>\n",
       "      <td>18.134</td>\n",
       "      <td>0.000</td>\n",
       "      <td>0.0</td>\n",
       "      <td>0.0</td>\n",
       "    </tr>\n",
       "    <tr>\n",
       "      <th>3</th>\n",
       "      <td>Whale 1</td>\n",
       "      <td>cry</td>\n",
       "      <td>under water</td>\n",
       "      <td>0.0</td>\n",
       "      <td>POINT</td>\n",
       "      <td>19.668</td>\n",
       "      <td>19.668</td>\n",
       "      <td>0.000</td>\n",
       "      <td>0.0</td>\n",
       "      <td>0.0</td>\n",
       "    </tr>\n",
       "    <tr>\n",
       "      <th>4</th>\n",
       "      <td>Whale 1</td>\n",
       "      <td>rise</td>\n",
       "      <td>above water</td>\n",
       "      <td>0.0</td>\n",
       "      <td>STATE</td>\n",
       "      <td>26.568</td>\n",
       "      <td>30.401</td>\n",
       "      <td>3.833</td>\n",
       "      <td>0.0</td>\n",
       "      <td>0.0</td>\n",
       "    </tr>\n",
       "    <tr>\n",
       "      <th>5</th>\n",
       "      <td>Whale 1</td>\n",
       "      <td>dive</td>\n",
       "      <td>under water</td>\n",
       "      <td>0.0</td>\n",
       "      <td>STATE</td>\n",
       "      <td>31.401</td>\n",
       "      <td>33.717</td>\n",
       "      <td>2.316</td>\n",
       "      <td>0.0</td>\n",
       "      <td>0.0</td>\n",
       "    </tr>\n",
       "    <tr>\n",
       "      <th>6</th>\n",
       "      <td>Whale 1</td>\n",
       "      <td>net</td>\n",
       "      <td>under water</td>\n",
       "      <td>0.0</td>\n",
       "      <td>STATE</td>\n",
       "      <td>39.068</td>\n",
       "      <td>42.901</td>\n",
       "      <td>3.833</td>\n",
       "      <td>0.0</td>\n",
       "      <td>0.0</td>\n",
       "    </tr>\n",
       "    <tr>\n",
       "      <th>7</th>\n",
       "      <td>Whale 1</td>\n",
       "      <td>swim</td>\n",
       "      <td>under water</td>\n",
       "      <td>0.0</td>\n",
       "      <td>STATE</td>\n",
       "      <td>44.192</td>\n",
       "      <td>49.801</td>\n",
       "      <td>5.609</td>\n",
       "      <td>0.0</td>\n",
       "      <td>0.0</td>\n",
       "    </tr>\n",
       "    <tr>\n",
       "      <th>8</th>\n",
       "      <td>Whale 1</td>\n",
       "      <td>cry</td>\n",
       "      <td>under water</td>\n",
       "      <td>0.0</td>\n",
       "      <td>POINT</td>\n",
       "      <td>46.485</td>\n",
       "      <td>46.485</td>\n",
       "      <td>0.000</td>\n",
       "      <td>0.0</td>\n",
       "      <td>0.0</td>\n",
       "    </tr>\n",
       "  </tbody>\n",
       "</table>\n",
       "</div>"
      ],
      "text/plain": [
       "   Subject Behavior Behavioral category  Modifiers Behavior type  Start (s)  \\\n",
       "0  Whale 1     dive         under water        0.0         STATE      6.618   \n",
       "1  Whale 1     swim         under water        0.0         STATE     11.232   \n",
       "2  Whale 1   sneeze         under water        0.0         POINT     18.134   \n",
       "3  Whale 1      cry         under water        0.0         POINT     19.668   \n",
       "4  Whale 1     rise         above water        0.0         STATE     26.568   \n",
       "5  Whale 1     dive         under water        0.0         STATE     31.401   \n",
       "6  Whale 1      net         under water        0.0         STATE     39.068   \n",
       "7  Whale 1     swim         under water        0.0         STATE     44.192   \n",
       "8  Whale 1      cry         under water        0.0         POINT     46.485   \n",
       "\n",
       "   Stop (s)  Duration (s)  Comment start  Comment stop  \n",
       "0     9.685         3.067            0.0           0.0  \n",
       "1    35.251        24.019            0.0           0.0  \n",
       "2    18.134         0.000            0.0           0.0  \n",
       "3    19.668         0.000            0.0           0.0  \n",
       "4    30.401         3.833            0.0           0.0  \n",
       "5    33.717         2.316            0.0           0.0  \n",
       "6    42.901         3.833            0.0           0.0  \n",
       "7    49.801         5.609            0.0           0.0  \n",
       "8    46.485         0.000            0.0           0.0  "
      ]
     },
     "execution_count": 18,
     "metadata": {},
     "output_type": "execute_result"
    }
   ],
   "source": [
    "#Dataframe Original (note: user_def is user-defined variable here)\n",
    "user_def= pd.read_csv(\"Sample_6.csv\")\n",
    "user_def_clean= user_def.iloc[:, 6:]\n",
    "user_def_clean = user_def_clean.fillna(0)\n",
    "user_def_clean"
   ]
  },
  {
   "cell_type": "code",
   "execution_count": 19,
   "id": "4c348f46",
   "metadata": {},
   "outputs": [],
   "source": [
    "#Cell above uses 0 instead of nan values"
   ]
  },
  {
   "cell_type": "code",
   "execution_count": 20,
   "id": "e3b213e1",
   "metadata": {},
   "outputs": [
    {
     "name": "stdout",
     "output_type": "stream",
     "text": [
      "File compatible. Data saved to variable %w\n"
     ]
    }
   ],
   "source": [
    "compat_ver(\"Sample_6.csv\")"
   ]
  },
  {
   "cell_type": "code",
   "execution_count": 21,
   "id": "ad6e0ca8",
   "metadata": {
    "scrolled": true
   },
   "outputs": [
    {
     "name": "stdout",
     "output_type": "stream",
     "text": [
      "0    3.067\n",
      "5    2.316\n",
      "Name: Duration (s), dtype: float64\n",
      "6    3.833\n",
      "Name: Duration (s), dtype: float64\n",
      "4    3.833\n",
      "Name: Duration (s), dtype: float64\n",
      "1    24.019\n",
      "7     5.609\n",
      "Name: Duration (s), dtype: float64\n"
     ]
    }
   ],
   "source": [
    "##State Event Graphing\n",
    "#Grabbing values to establish ONLY state events\n",
    "user_state_only= user_def_clean[user_def_clean['Behavior type']==\"STATE\"]\n",
    "#Grabbing unique behaviors using same function as before\n",
    "a_state= np.unique(user_state_only.iloc[:, 1], return_counts=True)\n",
    "#Creating a dictionary to obtain duration in duration format {\"cry\": ____}\n",
    "a_state_ind= {}\n",
    "for x in a_state[0]:\n",
    "    a_state_ind[x]=[]\n",
    "#Looking at keys and trying to iterate through the list of keys in dictionary\n",
    "for x in a_state_ind.keys():\n",
    "    print(user_state_only[user_state_only[\"Behavior\"]==x][\"Duration (s)\"])"
   ]
  },
  {
   "cell_type": "code",
   "execution_count": 22,
   "id": "44f51cc4",
   "metadata": {},
   "outputs": [
    {
     "data": {
      "text/plain": [
       "[4, 5, 6, 7, 8, 9]"
      ]
     },
     "execution_count": 22,
     "metadata": {},
     "output_type": "execute_result"
    }
   ],
   "source": [
    "#Creating random dictionary and playing around with values\n",
    "b= {\"dog\": \"\", \"cat\": \"\"}\n",
    "len(b[\"dog\"])\n",
    "#Creating list to append things to within the dictionary\n",
    "b_list= [4,5,6,7,8]\n",
    "b[\"dog\"]= b_list\n",
    "b_list.append(9)\n",
    "b_list"
   ]
  },
  {
   "cell_type": "code",
   "execution_count": 23,
   "id": "bbf379ca",
   "metadata": {},
   "outputs": [
    {
     "data": {
      "text/plain": [
       "{'dive': [0    3.067\n",
       "  5    2.316\n",
       "  Name: Duration (s), dtype: float64],\n",
       " 'net': [6    3.833\n",
       "  Name: Duration (s), dtype: float64],\n",
       " 'rise': [4    3.833\n",
       "  Name: Duration (s), dtype: float64],\n",
       " 'swim': [1    24.019\n",
       "  7     5.609\n",
       "  Name: Duration (s), dtype: float64]}"
      ]
     },
     "execution_count": 23,
     "metadata": {},
     "output_type": "execute_result"
    }
   ],
   "source": [
    "#Implementing the dynamic lists into the dictionaries now\n",
    "for x in a_state_ind.keys():\n",
    "    a_state_ind[x].append(user_state_only[user_state_only[\"Behavior\"]==x][\"Duration (s)\"])\n",
    "a_state_ind"
   ]
  },
  {
   "cell_type": "code",
   "execution_count": 24,
   "id": "f1fd90f8",
   "metadata": {},
   "outputs": [
    {
     "data": {
      "text/plain": [
       "24.019"
      ]
     },
     "execution_count": 24,
     "metadata": {},
     "output_type": "execute_result"
    }
   ],
   "source": [
    "#HOW TO INDEX THE VALUES??\n",
    "a_state_ind[\"swim\"][0][1]   #note: have to use 0 to get key, then 1 to get the element in the list itself"
   ]
  },
  {
   "cell_type": "code",
   "execution_count": 25,
   "id": "9015c813",
   "metadata": {},
   "outputs": [
    {
     "data": {
      "text/html": [
       "<div>\n",
       "<style scoped>\n",
       "    .dataframe tbody tr th:only-of-type {\n",
       "        vertical-align: middle;\n",
       "    }\n",
       "\n",
       "    .dataframe tbody tr th {\n",
       "        vertical-align: top;\n",
       "    }\n",
       "\n",
       "    .dataframe thead th {\n",
       "        text-align: right;\n",
       "    }\n",
       "</style>\n",
       "<table border=\"1\" class=\"dataframe\">\n",
       "  <thead>\n",
       "    <tr style=\"text-align: right;\">\n",
       "      <th></th>\n",
       "      <th>Duration</th>\n",
       "    </tr>\n",
       "  </thead>\n",
       "  <tbody>\n",
       "    <tr>\n",
       "      <th>net</th>\n",
       "      <td>3.833</td>\n",
       "    </tr>\n",
       "    <tr>\n",
       "      <th>rise</th>\n",
       "      <td>3.833</td>\n",
       "    </tr>\n",
       "    <tr>\n",
       "      <th>dive</th>\n",
       "      <td>5.383</td>\n",
       "    </tr>\n",
       "    <tr>\n",
       "      <th>swim</th>\n",
       "      <td>29.628</td>\n",
       "    </tr>\n",
       "  </tbody>\n",
       "</table>\n",
       "</div>"
      ],
      "text/plain": [
       "      Duration\n",
       "net      3.833\n",
       "rise     3.833\n",
       "dive     5.383\n",
       "swim    29.628"
      ]
     },
     "execution_count": 25,
     "metadata": {},
     "output_type": "execute_result"
    }
   ],
   "source": [
    "#Setting up new dictionary for totals\n",
    "a_state_total= {}\n",
    "for x in a_state_ind.keys():\n",
    "    a_state_total[x]= sum(a_state_ind[x][0][:])\n",
    "    \n",
    "#Putting a_state_total into its own dataframe for sorting purposes\n",
    "state_frame= pd.DataFrame.from_dict(a_state_total, orient= \"Index\", columns= [\"Duration\"])\n",
    "state_frame_sorted= state_frame.sort_values(\"Duration\", ascending= True)\n",
    "state_frame_sorted"
   ]
  },
  {
   "cell_type": "code",
   "execution_count": 26,
   "id": "10bdd9cb",
   "metadata": {},
   "outputs": [
    {
     "data": {
      "text/plain": [
       "{'dive': 5.383, 'net': 3.833, 'rise': 3.833, 'swim': 29.628}"
      ]
     },
     "execution_count": 26,
     "metadata": {},
     "output_type": "execute_result"
    }
   ],
   "source": [
    "a_state_total"
   ]
  },
  {
   "cell_type": "code",
   "execution_count": 27,
   "id": "80f5a8e0",
   "metadata": {},
   "outputs": [
    {
     "data": {
      "text/plain": [
       "Index(['net', 'rise', 'dive', 'swim'], dtype='object')"
      ]
     },
     "execution_count": 27,
     "metadata": {},
     "output_type": "execute_result"
    }
   ],
   "source": [
    "state_frame_sorted.index"
   ]
  },
  {
   "cell_type": "code",
   "execution_count": 28,
   "id": "71c9a8c9",
   "metadata": {},
   "outputs": [
    {
     "data": {
      "image/png": "[encoded data removed]",
      "text/plain": [
       "<Figure size 432x288 with 1 Axes>"
      ]
     },
     "metadata": {
      "needs_background": "light"
     },
     "output_type": "display_data"
    }
   ],
   "source": [
    "import matplotlib.pyplot as plt\n",
    "fig2 = plt.figure()\n",
    "ax = fig2.add_axes([0,0,1,1])\n",
    "plt.barh(state_frame_sorted.index, state_frame_sorted['Duration'], color=\"crimson\")\n",
    "plt.title(\"Duration of Whale Activities\")\n",
    "plt.xlabel(\"Duration (s)\")\n",
    "plt.ylabel(\"Activity\")\n",
    "\n",
    "plt.show()"
   ]
  },
  {
   "cell_type": "code",
   "execution_count": null,
   "id": "cc5fd666",
   "metadata": {},
   "outputs": [],
   "source": []
  }
 ],
 "metadata": {
  "kernelspec": {
   "display_name": "Python 3",
   "language": "python",
   "name": "python3"
  },
  "language_info": {
   "codemirror_mode": {
    "name": "ipython",
    "version": 3
   },
   "file_extension": ".py",
   "mimetype": "text/x-python",
   "name": "python",
   "nbconvert_exporter": "python",
   "pygments_lexer": "ipython3",
   "version": "3.8.8"
  }
 },
 "nbformat": 4,
 "nbformat_minor": 5
}
