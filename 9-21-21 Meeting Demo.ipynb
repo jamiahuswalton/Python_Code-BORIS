{# This is my comment! Jamiahus is so great (so he thinks)! 
 "cells": [
  {
   "cell_type": "code",
   "execution_count": 39,
   "id": "59111706",
   "metadata": {},
   "outputs": [],
   "source": [
    "#Start with importing our csv reading tool\n",
    "import pandas as pd\n",
    "#Continue with importing our graphics tool\n",
    "import matplotlib.pyplot as plt\n",
    "\n",
    "import numpy as np"
   ]
  },
  {
   "cell_type": "markdown",
   "id": "9b2375ac",
   "metadata": {},
   "source": [
    "# Make sure you are in the right directory"
   ]
  },
  {
   "cell_type": "code",
   "execution_count": 40,
   "id": "30a45b16",
   "metadata": {},
   "outputs": [
    {
     "data": {
      "text/plain": [
       "'C:\\\\Users\\\\18642\\\\Desktop'"
      ]
     },
     "execution_count": 40,
     "metadata": {},
     "output_type": "execute_result"
    }
   ],
   "source": [
    "pwd #checks which directory"
   ]
  },
  {
   "cell_type": "markdown",
   "id": "7b2ba798",
   "metadata": {},
   "source": [
    "# Now change the directory to where your CSV file is"
   ]
  },
  {
   "cell_type": "code",
   "execution_count": 41,
   "id": "6e489070",
   "metadata": {},
   "outputs": [
    {
     "name": "stdout",
     "output_type": "stream",
     "text": [
      "[WinError 2] The system cannot find the file specified: 'Desktop'\n",
      "C:\\Users\\18642\\Desktop\n"
     ]
    }
   ],
   "source": [
    "cd Desktop"
   ]
  },
  {
   "cell_type": "code",
   "execution_count": 42,
   "id": "c762f1a7",
   "metadata": {},
   "outputs": [],
   "source": [
    "sample3= pd.read_csv(\"Sample_3.csv\")"
   ]
  },
  {
   "cell_type": "code",
   "execution_count": 43,
   "id": "9e630dc7",
   "metadata": {},
   "outputs": [
    {
     "name": "stdout",
     "output_type": "stream",
     "text": [
      "Description\n",
      "Media file\n",
      "Behavioral category\n"
     ]
    },
    {
     "data": {
      "text/html": [
       "<div>\n",
       "<style scoped>\n",
       "    .dataframe tbody tr th:only-of-type {\n",
       "        vertical-align: middle;\n",
       "    }\n",
       "\n",
       "    .dataframe tbody tr th {\n",
       "        vertical-align: top;\n",
       "    }\n",
       "\n",
       "    .dataframe thead th {\n",
       "        text-align: right;\n",
       "    }\n",
       "</style>\n",
       "<table border=\"1\" class=\"dataframe\">\n",
       "  <thead>\n",
       "    <tr style=\"text-align: right;\">\n",
       "      <th></th>\n",
       "      <th>Observation id</th>\n",
       "      <th>Observation date</th>\n",
       "      <th>Total length</th>\n",
       "      <th>FPS</th>\n",
       "      <th>Subject</th>\n",
       "      <th>Behavior</th>\n",
       "      <th>Modifiers</th>\n",
       "      <th>Behavior type</th>\n",
       "      <th>Start (s)</th>\n",
       "      <th>Stop (s)</th>\n",
       "      <th>Duration (s)</th>\n",
       "      <th>Comment start</th>\n",
       "      <th>Comment stop</th>\n",
       "    </tr>\n",
       "  </thead>\n",
       "  <tbody>\n",
       "    <tr>\n",
       "      <th>0</th>\n",
       "      <td>Sample 3</td>\n",
       "      <td>9/20/2021 16:36</td>\n",
       "      <td>185.55</td>\n",
       "      <td>60</td>\n",
       "      <td>No focal subject</td>\n",
       "      <td>right</td>\n",
       "      <td>NaN</td>\n",
       "      <td>POINT</td>\n",
       "      <td>4.334</td>\n",
       "      <td>4.334</td>\n",
       "      <td>NaN</td>\n",
       "      <td>NaN</td>\n",
       "      <td>NaN</td>\n",
       "    </tr>\n",
       "    <tr>\n",
       "      <th>1</th>\n",
       "      <td>Sample 3</td>\n",
       "      <td>9/20/2021 16:36</td>\n",
       "      <td>185.55</td>\n",
       "      <td>60</td>\n",
       "      <td>No focal subject</td>\n",
       "      <td>left</td>\n",
       "      <td>NaN</td>\n",
       "      <td>POINT</td>\n",
       "      <td>7.134</td>\n",
       "      <td>7.134</td>\n",
       "      <td>NaN</td>\n",
       "      <td>NaN</td>\n",
       "      <td>NaN</td>\n",
       "    </tr>\n",
       "    <tr>\n",
       "      <th>2</th>\n",
       "      <td>Sample 3</td>\n",
       "      <td>9/20/2021 16:36</td>\n",
       "      <td>185.55</td>\n",
       "      <td>60</td>\n",
       "      <td>No focal subject</td>\n",
       "      <td>clean</td>\n",
       "      <td>NaN</td>\n",
       "      <td>STATE</td>\n",
       "      <td>10.201</td>\n",
       "      <td>20.935</td>\n",
       "      <td>10.734</td>\n",
       "      <td>NaN</td>\n",
       "      <td>NaN</td>\n",
       "    </tr>\n",
       "    <tr>\n",
       "      <th>3</th>\n",
       "      <td>Sample 3</td>\n",
       "      <td>9/20/2021 16:36</td>\n",
       "      <td>185.55</td>\n",
       "      <td>60</td>\n",
       "      <td>No focal subject</td>\n",
       "      <td>down</td>\n",
       "      <td>NaN</td>\n",
       "      <td>POINT</td>\n",
       "      <td>15.584</td>\n",
       "      <td>15.584</td>\n",
       "      <td>NaN</td>\n",
       "      <td>NaN</td>\n",
       "      <td>NaN</td>\n",
       "    </tr>\n",
       "  </tbody>\n",
       "</table>\n",
       "</div>"
      ],
      "text/plain": [
       "  Observation id Observation date  Total length  FPS           Subject  \\\n",
       "0       Sample 3  9/20/2021 16:36        185.55   60  No focal subject   \n",
       "1       Sample 3  9/20/2021 16:36        185.55   60  No focal subject   \n",
       "2       Sample 3  9/20/2021 16:36        185.55   60  No focal subject   \n",
       "3       Sample 3  9/20/2021 16:36        185.55   60  No focal subject   \n",
       "\n",
       "  Behavior  Modifiers Behavior type  Start (s)  Stop (s)  Duration (s)  \\\n",
       "0    right        NaN         POINT      4.334     4.334           NaN   \n",
       "1     left        NaN         POINT      7.134     7.134           NaN   \n",
       "2    clean        NaN         STATE     10.201    20.935        10.734   \n",
       "3     down        NaN         POINT     15.584    15.584           NaN   \n",
       "\n",
       "   Comment start  Comment stop  \n",
       "0            NaN           NaN  \n",
       "1            NaN           NaN  \n",
       "2            NaN           NaN  \n",
       "3            NaN           NaN  "
      ]
     },
     "execution_count": 43,
     "metadata": {},
     "output_type": "execute_result"
    }
   ],
   "source": [
    "for x in [\"Description\", \"Media file\", \"Behavioral category\"]:\n",
    "    sample3= sample3.drop(labels= x, axis =1)\n",
    "    print(x)\n",
    "sample3"
   ]
  },
  {
   "cell_type": "code",
   "execution_count": 44,
   "id": "ccab475a",
   "metadata": {},
   "outputs": [
    {
     "data": {
      "text/plain": [
       "[<matplotlib.lines.Line2D at 0x22129fc2340>]"
      ]
     },
     "execution_count": 44,
     "metadata": {},
     "output_type": "execute_result"
    },
    {
     "data": {
      "image/png": "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\n",
      "text/plain": [
       "<Figure size 432x288 with 1 Axes>"
      ]
     },
     "metadata": {
      "needs_background": "light"
     },
     "output_type": "display_data"
    }
   ],
   "source": [
    "plt.plot([1,2,3,4])\n"
   ]
  },
  {
   "cell_type": "code",
   "execution_count": 45,
   "id": "03a2b820",
   "metadata": {},
   "outputs": [
    {
     "data": {
      "text/html": [
       "<div>\n",
       "<style scoped>\n",
       "    .dataframe tbody tr th:only-of-type {\n",
       "        vertical-align: middle;\n",
       "    }\n",
       "\n",
       "    .dataframe tbody tr th {\n",
       "        vertical-align: top;\n",
       "    }\n",
       "\n",
       "    .dataframe thead th {\n",
       "        text-align: right;\n",
       "    }\n",
       "</style>\n",
       "<table border=\"1\" class=\"dataframe\">\n",
       "  <thead>\n",
       "    <tr style=\"text-align: right;\">\n",
       "      <th></th>\n",
       "      <th>Observation id</th>\n",
       "      <th>Observation date</th>\n",
       "      <th>Total length</th>\n",
       "      <th>FPS</th>\n",
       "      <th>Subject</th>\n",
       "      <th>Behavior</th>\n",
       "      <th>Modifiers</th>\n",
       "      <th>Behavior type</th>\n",
       "      <th>Start (s)</th>\n",
       "      <th>Stop (s)</th>\n",
       "      <th>Duration (s)</th>\n",
       "      <th>Comment start</th>\n",
       "      <th>Comment stop</th>\n",
       "    </tr>\n",
       "  </thead>\n",
       "  <tbody>\n",
       "    <tr>\n",
       "      <th>0</th>\n",
       "      <td>Sample 3</td>\n",
       "      <td>9/20/2021 16:36</td>\n",
       "      <td>185.55</td>\n",
       "      <td>60</td>\n",
       "      <td>No focal subject</td>\n",
       "      <td>right</td>\n",
       "      <td>NaN</td>\n",
       "      <td>POINT</td>\n",
       "      <td>4.334</td>\n",
       "      <td>4.334</td>\n",
       "      <td>NaN</td>\n",
       "      <td>NaN</td>\n",
       "      <td>NaN</td>\n",
       "    </tr>\n",
       "    <tr>\n",
       "      <th>1</th>\n",
       "      <td>Sample 3</td>\n",
       "      <td>9/20/2021 16:36</td>\n",
       "      <td>185.55</td>\n",
       "      <td>60</td>\n",
       "      <td>No focal subject</td>\n",
       "      <td>left</td>\n",
       "      <td>NaN</td>\n",
       "      <td>POINT</td>\n",
       "      <td>7.134</td>\n",
       "      <td>7.134</td>\n",
       "      <td>NaN</td>\n",
       "      <td>NaN</td>\n",
       "      <td>NaN</td>\n",
       "    </tr>\n",
       "    <tr>\n",
       "      <th>2</th>\n",
       "      <td>Sample 3</td>\n",
       "      <td>9/20/2021 16:36</td>\n",
       "      <td>185.55</td>\n",
       "      <td>60</td>\n",
       "      <td>No focal subject</td>\n",
       "      <td>clean</td>\n",
       "      <td>NaN</td>\n",
       "      <td>STATE</td>\n",
       "      <td>10.201</td>\n",
       "      <td>20.935</td>\n",
       "      <td>10.734</td>\n",
       "      <td>NaN</td>\n",
       "      <td>NaN</td>\n",
       "    </tr>\n",
       "    <tr>\n",
       "      <th>3</th>\n",
       "      <td>Sample 3</td>\n",
       "      <td>9/20/2021 16:36</td>\n",
       "      <td>185.55</td>\n",
       "      <td>60</td>\n",
       "      <td>No focal subject</td>\n",
       "      <td>down</td>\n",
       "      <td>NaN</td>\n",
       "      <td>POINT</td>\n",
       "      <td>15.584</td>\n",
       "      <td>15.584</td>\n",
       "      <td>NaN</td>\n",
       "      <td>NaN</td>\n",
       "      <td>NaN</td>\n",
       "    </tr>\n",
       "  </tbody>\n",
       "</table>\n",
       "</div>"
      ],
      "text/plain": [
       "  Observation id Observation date  Total length  FPS           Subject  \\\n",
       "0       Sample 3  9/20/2021 16:36        185.55   60  No focal subject   \n",
       "1       Sample 3  9/20/2021 16:36        185.55   60  No focal subject   \n",
       "2       Sample 3  9/20/2021 16:36        185.55   60  No focal subject   \n",
       "3       Sample 3  9/20/2021 16:36        185.55   60  No focal subject   \n",
       "\n",
       "  Behavior  Modifiers Behavior type  Start (s)  Stop (s)  Duration (s)  \\\n",
       "0    right        NaN         POINT      4.334     4.334           NaN   \n",
       "1     left        NaN         POINT      7.134     7.134           NaN   \n",
       "2    clean        NaN         STATE     10.201    20.935        10.734   \n",
       "3     down        NaN         POINT     15.584    15.584           NaN   \n",
       "\n",
       "   Comment start  Comment stop  \n",
       "0            NaN           NaN  \n",
       "1            NaN           NaN  \n",
       "2            NaN           NaN  \n",
       "3            NaN           NaN  "
      ]
     },
     "execution_count": 45,
     "metadata": {},
     "output_type": "execute_result"
    }
   ],
   "source": [
    "#Compiling useful data\n",
    "behaviors= [\"right\", \"left\", \"clean\", \"down\" ]\n",
    "sample3_useful= sample3\n",
    "sample3_useful"
   ]
  },
  {
   "cell_type": "markdown",
   "id": "732f5a64",
   "metadata": {},
   "source": [
    "# Consolidating numerical data down\n"
   ]
  },
  {
   "cell_type": "code",
   "execution_count": 46,
   "id": "f8a9591b",
   "metadata": {},
   "outputs": [
    {
     "name": "stdout",
     "output_type": "stream",
     "text": [
      "Observation id\n",
      "Observation date\n",
      "Total length\n",
      "FPS\n",
      "Subject\n",
      "Modifiers\n",
      "Comment start\n",
      "Comment stop\n"
     ]
    },
    {
     "data": {
      "text/html": [
       "<div>\n",
       "<style scoped>\n",
       "    .dataframe tbody tr th:only-of-type {\n",
       "        vertical-align: middle;\n",
       "    }\n",
       "\n",
       "    .dataframe tbody tr th {\n",
       "        vertical-align: top;\n",
       "    }\n",
       "\n",
       "    .dataframe thead th {\n",
       "        text-align: right;\n",
       "    }\n",
       "</style>\n",
       "<table border=\"1\" class=\"dataframe\">\n",
       "  <thead>\n",
       "    <tr style=\"text-align: right;\">\n",
       "      <th></th>\n",
       "      <th>Behavior</th>\n",
       "      <th>Behavior type</th>\n",
       "      <th>Start (s)</th>\n",
       "      <th>Stop (s)</th>\n",
       "      <th>Duration (s)</th>\n",
       "    </tr>\n",
       "  </thead>\n",
       "  <tbody>\n",
       "    <tr>\n",
       "      <th>0</th>\n",
       "      <td>right</td>\n",
       "      <td>POINT</td>\n",
       "      <td>4.334</td>\n",
       "      <td>4.334</td>\n",
       "      <td>NaN</td>\n",
       "    </tr>\n",
       "    <tr>\n",
       "      <th>1</th>\n",
       "      <td>left</td>\n",
       "      <td>POINT</td>\n",
       "      <td>7.134</td>\n",
       "      <td>7.134</td>\n",
       "      <td>NaN</td>\n",
       "    </tr>\n",
       "    <tr>\n",
       "      <th>2</th>\n",
       "      <td>clean</td>\n",
       "      <td>STATE</td>\n",
       "      <td>10.201</td>\n",
       "      <td>20.935</td>\n",
       "      <td>10.734</td>\n",
       "    </tr>\n",
       "    <tr>\n",
       "      <th>3</th>\n",
       "      <td>down</td>\n",
       "      <td>POINT</td>\n",
       "      <td>15.584</td>\n",
       "      <td>15.584</td>\n",
       "      <td>NaN</td>\n",
       "    </tr>\n",
       "  </tbody>\n",
       "</table>\n",
       "</div>"
      ],
      "text/plain": [
       "  Behavior Behavior type  Start (s)  Stop (s)  Duration (s)\n",
       "0    right         POINT      4.334     4.334           NaN\n",
       "1     left         POINT      7.134     7.134           NaN\n",
       "2    clean         STATE     10.201    20.935        10.734\n",
       "3     down         POINT     15.584    15.584           NaN"
      ]
     },
     "execution_count": 46,
     "metadata": {},
     "output_type": "execute_result"
    }
   ],
   "source": [
    "for x in [\"Observation id\", \"Observation date\", \"Total length\", \"FPS\", \"Subject\",\n",
    "         \"Modifiers\", \"Comment start\", \"Comment stop\"]:\n",
    "    sample3_useful= sample3_useful.drop(labels= x, axis =1)\n",
    "    print(x)\n",
    "sample3_useful"
   ]
  },
  {
   "cell_type": "code",
   "execution_count": 47,
   "id": "64c949bc",
   "metadata": {},
   "outputs": [],
   "source": [
    "#Counting occurrences of Behavior type\n",
    "behavior_types= sample3_useful['Behavior type'].value_counts()"
   ]
  },
  {
   "cell_type": "code",
   "execution_count": 51,
   "id": "ad33df5e",
   "metadata": {},
   "outputs": [],
   "source": [
    "#Now doing the same for occurrences of each behavior\n",
    "behaviors_real= sample3_useful['Behavior'].value_counts()\n"
   ]
  },
  {
   "cell_type": "code",
   "execution_count": 67,
   "id": "6fedc548",
   "metadata": {},
   "outputs": [
    {
     "data": {
      "image/png": "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\n",
      "text/plain": [
       "<Figure size 720x504 with 1 Axes>"
      ]
     },
     "metadata": {},
     "output_type": "display_data"
    }
   ],
   "source": [
    "#Now implementing graphs\n",
    "fig=plt.figure(figsize= (10,7))\n",
    "ax= fig.add_axes([0,0,0.50, 0.5])\n",
    "ax.set_title(\"Point v. State Events\")\n",
    "explode = (0, 0.5)\n",
    "plt.pie(behavior_types, labels= [\"POINT\", \"STATE\"], autopct= \"%1.1f%%\", explode= explode)\n",
    "\n",
    "plt.show()"
   ]
  },
  {
   "cell_type": "code",
   "execution_count": 61,
   "id": "cf143ece",
   "metadata": {},
   "outputs": [
    {
     "data": {
      "image/png": "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\n",
      "text/plain": [
       "<Figure size 720x504 with 1 Axes>"
      ]
     },
     "metadata": {
      "needs_background": "light"
     },
     "output_type": "display_data"
    }
   ],
   "source": [
    "#Graphs CTD\n",
    "fig= plt.figure(figsize= (10,7))\n",
    "ax= fig.add_axes([0,0, 0.5,0.5])\n",
    "ax.set_title(\"Occurrences of each activity\")\n",
    "plt.bar(behaviors, behaviors_real)\n",
    "plt.show()"
   ]
  },
  {
   "cell_type": "code",
   "execution_count": null,
   "id": "eaff73f4",
   "metadata": {},
   "outputs": [],
   "source": []
  }
 ],
 "metadata": {
  "kernelspec": {
   "display_name": "Python 3",
   "language": "python",
   "name": "python3"
  },
  "language_info": {
   "codemirror_mode": {
    "name": "ipython",
    "version": 3
   },
   "file_extension": ".py",
   "mimetype": "text/x-python",
   "name": "python",
   "nbconvert_exporter": "python",
   "pygments_lexer": "ipython3",
   "version": "3.8.8"
  }
 },
 "nbformat": 4,
 "nbformat_minor": 5
}
